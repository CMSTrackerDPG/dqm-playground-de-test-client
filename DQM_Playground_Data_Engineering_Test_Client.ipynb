{
 "cells": [
  {
   "cell_type": "markdown",
   "id": "397c9749",
   "metadata": {},
   "source": [
    "# DQM Playground Data Engineering Test Client\n",
    "\n",
    "A sample API client for accessing DQM Playground's data. "
   ]
  },
  {
   "cell_type": "code",
   "execution_count": 1,
   "id": "8fcb9e34",
   "metadata": {},
   "outputs": [],
   "source": [
    "import requests\n"
   ]
  },
  {
   "cell_type": "code",
   "execution_count": null,
   "id": "e42a9412",
   "metadata": {},
   "outputs": [],
   "source": []
  }
 ],
 "metadata": {
  "kernelspec": {
   "display_name": "Python 3",
   "language": "python",
   "name": "python3"
  },
  "language_info": {
   "codemirror_mode": {
    "name": "ipython",
    "version": 3
   },
   "file_extension": ".py",
   "mimetype": "text/x-python",
   "name": "python",
   "nbconvert_exporter": "python",
   "pygments_lexer": "ipython3",
   "version": "3.9.6"
  }
 },
 "nbformat": 4,
 "nbformat_minor": 5
}
